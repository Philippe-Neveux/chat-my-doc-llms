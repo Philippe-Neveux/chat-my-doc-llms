{
 "cells": [
  {
   "cell_type": "code",
   "execution_count": 1,
   "id": "28cdef20",
   "metadata": {},
   "outputs": [],
   "source": [
    "import os\n",
    "\n",
    "from dotenv import load_dotenv\n",
    "\n",
    "load_dotenv()\n",
    "\n",
    "if not os.environ.get(\"GOOGLE_API_KEY\"):\n",
    "  raise ValueError(\"GOOGLE_API_KEY environment variable is not set.\")\n",
    "\n",
    "from langchain.chat_models import init_chat_model\n",
    "\n",
    "llm = init_chat_model(\"gemini-2.0-flash-lite\", model_provider=\"google_genai\")"
   ]
  },
  {
   "cell_type": "code",
   "execution_count": 2,
   "id": "291e302a",
   "metadata": {},
   "outputs": [
    {
     "data": {
      "text/plain": [
       "AIMessage(content='I can help you with a lot of things! To give you the best assistance, tell me what you need help with.  For example, are you looking for:\\n\\n*   **Information?** (e.g., \"Tell me about the history of the internet.\")\\n*   **Help with a task?** (e.g., \"Write a short email to my boss.\")\\n*   **Creative content?** (e.g., \"Write a poem about a cat.\")\\n*   **Problem-solving?** (e.g., \"I\\'m having trouble with my computer. It won\\'t turn on.\")\\n*   **Summarization?** (e.g., \"Summarize this article for me.\")\\n*   **Translation?** (e.g., \"Translate \\'Hello, how are you?\\' into Spanish.\")\\n*   **Code generation?** (e.g., \"Write a Python function to calculate the factorial of a number.\")\\n*   **Something else entirely?**\\n\\nThe more specific you are, the better I can assist you.  Just let me know what you need!', additional_kwargs={}, response_metadata={'prompt_feedback': {'block_reason': 0, 'safety_ratings': []}, 'finish_reason': 'STOP', 'model_name': 'gemini-2.0-flash-lite', 'safety_ratings': []}, id='run--e3181875-473e-49e5-88c9-56bf7604e1e7-0', usage_metadata={'input_tokens': 9, 'output_tokens': 236, 'total_tokens': 245, 'input_token_details': {'cache_read': 0}})"
      ]
     },
     "execution_count": 2,
     "metadata": {},
     "output_type": "execute_result"
    }
   ],
   "source": [
    "llm.invoke(\"Hey, how can you help me today?\")"
   ]
  },
  {
   "cell_type": "markdown",
   "id": "314793b0",
   "metadata": {},
   "source": [
    "# Get Data from GCS"
   ]
  },
  {
   "cell_type": "code",
   "execution_count": null,
   "id": "4ab2ec77",
   "metadata": {},
   "outputs": [],
   "source": []
  }
 ],
 "metadata": {
  "kernelspec": {
   "display_name": "chat-my-doc-llms",
   "language": "python",
   "name": "python3"
  },
  "language_info": {
   "codemirror_mode": {
    "name": "ipython",
    "version": 3
   },
   "file_extension": ".py",
   "mimetype": "text/x-python",
   "name": "python",
   "nbconvert_exporter": "python",
   "pygments_lexer": "ipython3",
   "version": "3.12.11"
  }
 },
 "nbformat": 4,
 "nbformat_minor": 5
}
